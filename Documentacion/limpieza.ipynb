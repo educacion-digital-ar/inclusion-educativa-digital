{
  "nbformat": 4,
  "nbformat_minor": 0,
  "metadata": {
    "colab": {
      "provenance": [],
      "authorship_tag": "ABX9TyOXMGqZu31NDFYM4fQpNJec",
      "include_colab_link": true
    },
    "kernelspec": {
      "name": "python3",
      "display_name": "Python 3"
    },
    "language_info": {
      "name": "python"
    }
  },
  "cells": [
    {
      "cell_type": "markdown",
      "metadata": {
        "id": "view-in-github",
        "colab_type": "text"
      },
      "source": [
        "<a href=\"https://colab.research.google.com/github/educacion-digital-ar/inclusion-educativa-digital/blob/main/Documentacion/limpieza.ipynb\" target=\"_parent\"><img src=\"https://colab.research.google.com/assets/colab-badge.svg\" alt=\"Open In Colab\"/></a>"
      ]
    },
    {
      "cell_type": "markdown",
      "source": [
        "# TERCERA EVIDENCIA – Limpieza, Análisis y Visualización de Datos\n",
        "### Integrantes del equipo:\n",
        "-"
      ],
      "metadata": {
        "id": "Y8MWRdcv3kwA"
      }
    },
    {
      "cell_type": "markdown",
      "source": [
        "## Datos en Burto."
      ],
      "metadata": {
        "id": "-iTn1b5-l80c"
      }
    },
    {
      "cell_type": "code",
      "execution_count": 44,
      "metadata": {
        "id": "9QR3CA7li1hB"
      },
      "outputs": [],
      "source": [
        "import pandas as pd\n",
        "from IPython.display import Markdown, display\n",
        "\n",
        "sheet_id = '1Qa5X6_s5zTJIFG6y9yaMngnWy01OKwOY'\n",
        "sheet_name = 'Hoja1'\n",
        "\n",
        "url = f'https://docs.google.com/spreadsheets/d/{sheet_id}/gviz/tq?tqx=out:csv&sheet={sheet_name}'\n",
        "\n",
        "df = pd.read_csv(url)\n",
        "display(Markdown(\"### Vista previa del DataFrame\"))\n",
        "display(df.head())\n",
        "\n",
        "display(Markdown(\"### Información general\"))\n",
        "df.info()\n",
        "\n",
        "display(Markdown(\"### Estadísticas de columnas numéricas\"))\n",
        "df.describe()\n",
        "\n"
      ]
    },
    {
      "cell_type": "markdown",
      "source": [],
      "metadata": {
        "id": "4gr_hRxym4Bz"
      }
    },
    {
      "cell_type": "markdown",
      "source": [
        "## 1. Contextualización de la limpieza de datos\n"
      ],
      "metadata": {
        "id": "Pj6O7tRD3whG"
      }
    },
    {
      "cell_type": "markdown",
      "source": [
        "# Limpieza de Datos\n",
        "\n",
        "Tras un análisis exploratorio inicial del dataset, se identificaron varias inconsistencias y variables que requieren limpieza para garantizar la confiabilidad del análisis. A continuación, se detallan los principales problemas detectados y las acciones que se tomarán para resolverlos:\n",
        "\n",
        "- **Columnas vacías:** Se identificaron 11 columnas completamente vacías. Estas serán eliminadas por no aportar información relevante al estudio.\n",
        "  \n",
        "- **Variable `duracionAnios`:** Presenta formatos inconsistentes. Será normalizada y convertida en una nueva variable llamada `duracionMeses`, con valores numéricos homogéneos expresados en meses.\n",
        "\n",
        "- **Columnas irrelevantes:** Las variables `observaciones` y `porcentajeOfertaVirtual` no aportan valor significativo al análisis, por lo tanto, serán excluidas.\n",
        "\n",
        "- **Filtrado por modalidad:** Solo se conservarán los registros cuya modalidad sea \"Virtual\" o \"Combinada\", ya que los demás no se alinean con el enfoque de esta investigación.\n",
        "\n",
        "- **Variable `areaConocimiento`:** Se realizará una normalización agrupando las categorías similares bajo una misma etiqueta, con el objetivo de simplificar y mejorar la calidad del análisis posterior.\n",
        "\n",
        "Cada uno de estos puntos será abordado con ejemplos específicos en las siguientes celdas, documentando tanto el problema como la solución aplicada mediante código en Pandas.\n",
        "\n",
        "\n"
      ],
      "metadata": {
        "id": "fCXTCo9UuWu-"
      }
    },
    {
      "cell_type": "markdown",
      "source": [
        "## 2. Limpieza de Datos con Pandas\n",
        "\n"
      ],
      "metadata": {
        "id": "lID2AsRg35dw"
      }
    },
    {
      "cell_type": "markdown",
      "source": [
        "### Datos Ausentes y Formato Incorrecto\n",
        "\n",
        "#### a) Datos Ausentes\n"
      ],
      "metadata": {
        "id": "4oPuvtJy4JJM"
      }
    },
    {
      "cell_type": "markdown",
      "source": [
        "### Datos Erróneos y Duplicados\n",
        "#### a) Datos Erróneos"
      ],
      "metadata": {
        "id": "SMiUR3xh4MG2"
      }
    },
    {
      "cell_type": "markdown",
      "source": [
        "# Documentación para la Normalización de la Columna `duracionAnios`\n",
        "\n",
        "En esta sección se describen las reglas y procedimientos para convertir la columna `duracionAnios` en una unidad de medida uniforme: **meses**. Se manejan múltiples formatos y expresiones, incluyendo valores numéricos, fracciones textuales y unidades variadas.\n",
        "\n",
        "\n",
        "## 1. Valores Numéricos (Años)\n",
        "\n",
        "* **Ejemplos:** `1`, `2`, `4`, `5`, `6`, `1.5`, `2,5`, `4.5`, etc.  \n",
        "* **Regla:** Convertir años a meses multiplicando por 12.  \n",
        "* **Nota:** Reemplazar comas por puntos antes de la conversión para evitar errores.  \n",
        "\n",
        "```python\n",
        "meses = float(valor.replace(',', '.')) * 12\n",
        "```\n",
        "\n",
        "## 2. Valores en Cuatrimestres\n",
        "* **Ejemplos:** 3 cuatrimestres, 5 cuatrimestres, 4 cuatrimestres\n",
        "* **Regla:** Multiplicar el número de cuatrimestres por 4 meses.\n",
        "\n",
        "```python\n",
        "meses = cuatrimestres * 4\n",
        "```\n",
        "\n",
        "## 3. Valores en Trimestres\n",
        "* **Ejemplo:** 5 trimestres\n",
        "* **Regla:** Multiplicar el número de trimestres por 3 meses.\n",
        "\n",
        "```python\n",
        "meses = trimestres * 3\n",
        "```\n",
        "\n",
        "## 4. Valores en Semestres\n",
        "* **Ejemplo:** 4 semestres\n",
        "\n",
        "* **Regla:** Multiplicar el número de semestres por 6 meses.\n",
        "\n",
        "```python\n",
        "meses = semestres * 6\n",
        "```\n",
        "\n",
        "## 5. Valores en Meses\n",
        "* **Ejemplos:** 9 meses, 8 MESES, 4 MESES, 4 meses\n",
        "* **Regla:** Extraer el valor numérico y conservarlo tal cual, normalizando el formato a número.\n",
        "\n",
        "## 6. Fracciones Textuales\n",
        "**Ejemplos y reglas:**\n",
        "\n",
        "* \"2 y medio\" → 2.5 * 12 = 30 meses\n",
        "* \"1 y medio\" → 1.5 * 12 = 18 meses\n",
        "* \"2 y un cuatrimestre\" → (2 * 12) + 4 = 28 meses\n",
        "* \"1 y un mes\" → (1 * 12) + 1 = 13 meses\n",
        "\n",
        "**Nota:** *Sumar las partes según su equivalencia en meses, combinando años y unidades parciales.*\n",
        "\n",
        "## 7. Casos Especiales y Ambigüedades\n",
        "* Valores como 3-may, 1-mar, etc., suelen ser errores de OCR o importación.\n",
        "\n",
        "  **Acción recomendada:** Marcar como NaN o estimar un valor aproximado si el contexto lo permite (ejemplo: 3-may → 3.5 años).\n",
        "\n",
        "* Valores no numéricos o irrelevantes como variable, -, 0,01 deben ser eliminados o marcados como NaN.\n",
        "\n",
        "##8. Días y Semanas\n",
        "Convertir días y semanas a meses utilizando aproximaciones.\n",
        "\n",
        "**Ejemplos:**\n",
        "* 1 día ≈ 0.033 meses (1/30)\n",
        "* 2 días ≈ 0.066 meses\n",
        "* 33 semanas ≈ 7.6 meses (33 * 7 / 30.44)\n",
        "\n",
        "**Nota:** *La precisión puede ajustarse según el nivel requerido; se recomienda mantener decimales para mayor exactitud.*\n",
        "\n",
        "## Resumen\n",
        "El objetivo es obtener una columna `duracionMeses` homogénea, que facilite el análisis estadístico y comparativo. Los valores ambiguos deben tratarse con cuidado, priorizando la limpieza y consistencia de los datos."
      ],
      "metadata": {
        "id": "4b1a0tIxKbiF"
      }
    },
    {
      "cell_type": "markdown",
      "source": [
        "\n",
        "## 3. Visualización de Datos con Matplotlib"
      ],
      "metadata": {
        "id": "YaxnQ5pX4Sgf"
      }
    },
    {
      "cell_type": "markdown",
      "source": [
        " ### 📊 Gráfico 1 – Torta (variable categórica)"
      ],
      "metadata": {
        "id": "0B53haDv4Z0q"
      }
    },
    {
      "cell_type": "markdown",
      "source": [
        "### 📊 Gráfico 2 – Barras\n"
      ],
      "metadata": {
        "id": "W6bXnuhX4iAB"
      }
    },
    {
      "cell_type": "markdown",
      "source": [
        "### 📊 Gráfico 3 – Histograma o Línea"
      ],
      "metadata": {
        "id": "AX1lOeUQ4xLo"
      }
    },
    {
      "cell_type": "markdown",
      "source": [
        "### 📊 Gráfico 4 – Libre"
      ],
      "metadata": {
        "id": "yaE3eGPd4y9I"
      }
    },
    {
      "cell_type": "markdown",
      "source": [
        "## 4. Análisis Descriptivo de Variables"
      ],
      "metadata": {
        "id": "kAZgNlEG46Qn"
      }
    },
    {
      "cell_type": "markdown",
      "source": [
        "### ➤ Medidas estadísticas (media, mediana, moda, etc.)"
      ],
      "metadata": {
        "id": "Q3ujDXIA4_Nn"
      }
    },
    {
      "cell_type": "markdown",
      "source": [
        "### ➤ Simetría de las distribuciones"
      ],
      "metadata": {
        "id": "IIrUGA_q5Bwt"
      }
    }
  ]
}